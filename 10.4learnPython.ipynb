{
 "cells": [
  {
   "cell_type": "code",
   "execution_count": null,
   "metadata": {},
   "outputs": [],
   "source": [
    "frequency=defaultdict(int)\n",
    "\n",
    "通过dict.setdefault()方法来设置默认值\n",
    "for kw in strings:\n",
    "    counts.setdefault(kw, 0)\n",
    "    counts[kw] += 1\n",
    "\n",
    "    \n",
    "（1）defaultdict(int)：初始化为 0"
   ]
  },
  {
   "cell_type": "code",
   "execution_count": null,
   "metadata": {},
   "outputs": [],
   "source": [
    "print d['two']\n",
    "print d['three']\n",
    "运算结果：\n",
    "=======RESTART: C:\\Users\\Mr_Deng\\Desktop\\test.py=======\n",
    "{'three': 3, 'two': 2, 'one': 1}"
   ]
  },
  {
   "cell_type": "code",
   "execution_count": null,
   "metadata": {},
   "outputs": [],
   "source": [
    "两个for循环去除停用词\n",
    "\n",
    "\n",
    "texts=[ [ word  for word in document.lower().split() if word not in stoplist ] for document in documents]\n",
    "\n",
    "结果是列表里有列表"
   ]
  },
  {
   "cell_type": "code",
   "execution_count": null,
   "metadata": {},
   "outputs": [],
   "source": [
    "{'human': 0, 'interface': 1, 'computer': 2, 'survey': 3, 'user': 4, 'system': 5, 'response': 6, 'time': 7, 'eps': 8, 'trees': 9, 'graph': 10, 'minors': 11}\n",
    "\n",
    "词袋后。把每个词在哪个句子的第几个位置打印出来\n",
    "corpus = [dictionary.doc2bow(text) for text in texts]\n",
    "[[(0, 1), (1, 1), (2, 1)], [(2, 1), (3, 1), (4, 1), (5, 1), (6, 1), (7, 1)], [(1, 1), (4, 1), (5, 1), (8, 1)], [(0, 1), (5, 2), (8, 1)], [(4, 1), (6, 1), (7, 1)], [(9, 1)], [(9, 1), (10, 1)], [(9, 1), (10, 1), (11, 1)], [(3, 1), (10, 1), (11, 1)]]\n",
    "\n"
   ]
  },
  {
   "cell_type": "code",
   "execution_count": 4,
   "metadata": {},
   "outputs": [
    {
     "ename": "SyntaxError",
     "evalue": "invalid syntax (<ipython-input-4-b29fb867f54b>, line 16)",
     "output_type": "error",
     "traceback": [
      "\u001b[1;36m  File \u001b[1;32m\"<ipython-input-4-b29fb867f54b>\"\u001b[1;36m, line \u001b[1;32m16\u001b[0m\n\u001b[1;33m    print type(key), key, str(dict[key]),\u001b[0m\n\u001b[1;37m             ^\u001b[0m\n\u001b[1;31mSyntaxError\u001b[0m\u001b[1;31m:\u001b[0m invalid syntax\n"
     ]
    }
   ],
   "source": [
    "# -*- coding: utf-8 -*-\n",
    "import jieba, os\n",
    "import codecs\n",
    "from gensim import corpora, models, similarities\n",
    "from pprint import pprint\n",
    "from collections import defaultdict\n",
    "import sys\n",
    "import pickle\n",
    "\n",
    "reload(sys)\n",
    "sys.setdefaultencoding('utf-8')\n",
    "\n",
    "\n",
    "def print_dict(dict):\n",
    "    for key in dict:\n",
    "        print type(key), key, str(dict[key]),\n",
    "        print\n",
    "\n",
    "\n",
    "def test3():\n",
    "a = [['一','一','二'],['一','二','三']]\n",
    "b = ['一','一','三','四','四']\n",
    "dictionary = corpora.Dictionary(a)\n",
    "print \"########dictionary信息##########\"\n",
    "print str(dictionary) #\n",
    "print \"字典，{单词id，在多少文档中出现}\"\n",
    "print dictionary.dfs #字典，{单词id，在多少文档中出现}\n",
    "print \"文档数目\"\n",
    "print dictionary.num_docs #文档数目\n",
    "print \"dictionary.items()\"\n",
    "print_dict(dict(dictionary.items()))\n",
    "print \"字典，{单词id，对应的词}\"\n",
    "print_dict(dictionary.id2token) #字典，{单词id，对应的词}\n",
    "print \"字典，{词，对应的单词id}\"\n",
    "print_dict(dictionary.token2id) #字典，{词，对应的单词id}\n",
    "print \"所有词的个数\"\n",
    "print dictionary.num_pos #所有词的个数\n",
    "print \"每个文件中不重复词个数的和\"\n",
    "print dictionary.num_nnz #每个文件中不重复词个数的和\n",
    "print \"########doc2bow##########\"\n",
    "#dictionary.add_documents([b])\n",
    "#allow_update->更新当前字典；return_missing->返回字典中不存在的词\n",
    "#result为b文章转换得到的词袋，列表[(单词id，词频)]\n",
    "result, missing = dictionary.doc2bow(b, allow_update=False, return_missing=True)\n",
    "print \"词袋b，列表[(单词id，词频)]\"\n",
    "print result\n",
    "print \"不在字典中的词及其词频，字典[(单词，词频)]\"\n",
    "print_dict(missing)\n",
    "print \"########bow信息##########\"\n",
    "for id, freq in result:\n",
    "print id, dictionary.id2token[id], freq\n",
    "print \"########dictionary信息##########\"\n",
    "#过滤文档频率大于no_below，小于no_above*num_docs的词\n",
    "dictionary.filter_extremes(no_below=2, no_above=0.5, keep_n=10)\n",
    "print dictionary.dfs\n",
    "return\n",
    "\n",
    "test3()"
   ]
  },
  {
   "cell_type": "code",
   "execution_count": null,
   "metadata": {},
   "outputs": [],
   "source": [
    "1 raw strings 原始字符串 \n",
    "2 corpora 语料库 \n",
    "3 sparse vectors 稀疏向量 \n",
    "4 vector space model 向量空间模型 \n",
    "5 transformation 转换，指由稀疏向量组成的稀疏矩阵生成某个向量空间模型。 \n",
    "6 index 索引 \n",
    "\n",
    "Dictionary(documents=None, prune_at=2000000)\n",
    "print(texts) \n",
    "[[‘human’, ‘interface’, ‘computer’], \n",
    "[‘survey’, ‘user’, ‘computer’, ‘system’, ‘response’, ‘time’], \n",
    "[‘eps’, ‘user’, ‘interface’, ‘system’]] \n",
    "dictionary = corpora.Dictionary(texts)\n",
    "add_documents(documents, prune_at=2000000)\n",
    "压实，使得ID更加紧凑\n",
    "compactify()"
   ]
  },
  {
   "cell_type": "code",
   "execution_count": null,
   "metadata": {},
   "outputs": [],
   "source": []
  }
 ],
 "metadata": {
  "kernelspec": {
   "display_name": "Python 3",
   "language": "python",
   "name": "python3"
  },
  "language_info": {
   "codemirror_mode": {
    "name": "ipython",
    "version": 3
   },
   "file_extension": ".py",
   "mimetype": "text/x-python",
   "name": "python",
   "nbconvert_exporter": "python",
   "pygments_lexer": "ipython3",
   "version": "3.7.3"
  }
 },
 "nbformat": 4,
 "nbformat_minor": 2
}
